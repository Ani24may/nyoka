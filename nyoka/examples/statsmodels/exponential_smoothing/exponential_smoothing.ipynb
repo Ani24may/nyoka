{
 "cells": [
  {
   "cell_type": "code",
   "execution_count": 15,
   "metadata": {},
   "outputs": [],
   "source": [
    "import sys, os\n",
    "import pandas as pd\n",
    "import numpy as np\n",
    "from statsmodels.tsa.base import tsa_model as tsa\n",
    "from statsmodels.tsa import holtwinters as hw\n",
    "sys.path.insert(0, \"/home/osboxes/zementis/pmml_stsmdl\")  # <------------------ change this\n",
    "sys.path.append('../../../')\n",
    "from PMML43Ext import *\n",
    "from nyoka.nyoka.statsmodels import exponential_smoothing as es\n",
    "\n",
    "import matplotlib.pyplot as plt"
   ]
  },
  {
   "cell_type": "code",
   "execution_count": 16,
   "metadata": {
    "collapsed": true
   },
   "outputs": [],
   "source": [
    "def import_data(trend=False, seasonality=False):\n",
    "    \"\"\"\n",
    "    Returns a dataframe with time series values.\n",
    "    :param trend: boolean\n",
    "        If True, returns data with trend\n",
    "    :param seasonality: boolean\n",
    "        If True, returns data with seasonality\n",
    "    :return: ts_data: DataFrame\n",
    "        Index of the data frame is either a time-index or an integer index. First column has time series values\n",
    "    \"\"\"\n",
    "    if trend and seasonality:\n",
    "        # no of international visitors in Australia\n",
    "        data = [41.7275, 24.0418, 32.3281, 37.3287, 46.2132, 29.3463, 36.4829, 42.9777, 48.9015, 31.1802, 37.7179,\n",
    "                40.4202, 51.2069, 31.8872, 40.9783, 43.7725, 55.5586, 33.8509, 42.0764, 45.6423, 59.7668, 35.1919,\n",
    "                44.3197, 47.9137]\n",
    "        index = pd.DatetimeIndex(start='2005', end='2010-Q4', freq='QS')\n",
    "        ts_data = pd.Series(data, index)\n",
    "        ts_data.index.name = 'datetime_index'\n",
    "        ts_data.name = 'n_visitors'\n",
    "        return ts_data\n",
    "    elif trend:\n",
    "        # no. of annual passengers of air carriers registered in Australia\n",
    "        data = [17.5534, 21.86, 23.8866, 26.9293, 26.8885, 28.8314, 30.0751, 30.9535, 30.1857, 31.5797, 32.5776,\n",
    "                33.4774, 39.0216, 41.3864, 41.5966]\n",
    "        index = pd.DatetimeIndex(start='1990', end='2005', freq='A')\n",
    "        ts_data = pd.Series(data, index)\n",
    "        ts_data.index.name = 'datetime_index'\n",
    "        ts_data.name = 'n_passengers'\n",
    "        return ts_data\n",
    "    elif seasonality:\n",
    "        pass\n",
    "    else:\n",
    "        # Oil production in Saudi Arabia\n",
    "        data = [446.6565, 454.4733, 455.663, 423.6322, 456.2713, 440.5881, 425.3325, 485.1494, 506.0482, 526.792,\n",
    "                514.2689, 494.211]\n",
    "        index = pd.DatetimeIndex(start='1996', end='2008', freq='A')\n",
    "        ts_data = pd.Series(data, index)\n",
    "        ts_data.index.name = 'datetime_index'\n",
    "        ts_data.name = 'oil_production'\n",
    "        return ts_data"
   ]
  },
  {
   "cell_type": "markdown",
   "metadata": {},
   "source": [
    "# Simple Exponential Smoothing\n",
    "# No Trend No Seasonality"
   ]
  },
  {
   "cell_type": "code",
   "execution_count": 17,
   "metadata": {
    "collapsed": true
   },
   "outputs": [],
   "source": [
    "ts_data = import_data(trend=False, seasonality=False)"
   ]
  },
  {
   "cell_type": "markdown",
   "metadata": {},
   "source": [
    "Yearly oil prodcution in Saudi Arabia"
   ]
  },
  {
   "cell_type": "code",
   "execution_count": 18,
   "metadata": {},
   "outputs": [
    {
     "data": {
      "text/plain": [
       "[<matplotlib.lines.Line2D at 0xcc94048>]"
      ]
     },
     "execution_count": 18,
     "metadata": {},
     "output_type": "execute_result"
    }
   ],
   "source": [
    "plt.plot(ts_data)"
   ]
  },
  {
   "cell_type": "markdown",
   "metadata": {},
   "source": [
    "Create a model object using statsmodels, for simple exponential smoothing."
   ]
  },
  {
   "cell_type": "code",
   "execution_count": 19,
   "metadata": {
    "collapsed": true
   },
   "outputs": [],
   "source": [
    "# trend: {add, mul, None}\n",
    "# seasonal: {add, mul, None}\n",
    "# damped: {True, False}\n",
    "# seasonal_periods: {int, None}\n",
    "model_obj = hw.ExponentialSmoothing(ts_data, \n",
    "                                    trend=None, \n",
    "                                    damped=False, \n",
    "                                    seasonal=None, \n",
    "                                    seasonal_periods=None)\n",
    "results_obj = model_obj.fit(optimized=True)"
   ]
  },
  {
   "cell_type": "markdown",
   "metadata": {},
   "source": [
    "Create a pmml file from the model object using Nyoka and the exporter"
   ]
  },
  {
   "cell_type": "code",
   "execution_count": 20,
   "metadata": {},
   "outputs": [],
   "source": [
    "pmml_file_name = 'exponential_smoothing.pmml'\n",
    "es.ExponentialSmoothingToPMML(ts_data, model_obj, results_obj, pmml_file_name);"
   ]
  },
  {
   "cell_type": "code",
   "execution_count": 12,
   "metadata": {},
   "outputs": [
    {
     "ename": "NameError",
     "evalue": "name 'es' is not defined",
     "output_type": "error",
     "traceback": [
      "\u001b[1;31m---------------------------------------------------------------------------\u001b[0m",
      "\u001b[1;31mNameError\u001b[0m                                 Traceback (most recent call last)",
      "\u001b[1;32m<ipython-input-12-795d386c26b7>\u001b[0m in \u001b[0;36m<module>\u001b[1;34m()\u001b[0m\n\u001b[0;32m      1\u001b[0m \u001b[1;32mfrom\u001b[0m \u001b[0mimportlib\u001b[0m \u001b[1;32mimport\u001b[0m \u001b[0mreload\u001b[0m\u001b[1;33m\u001b[0m\u001b[0m\n\u001b[1;32m----> 2\u001b[1;33m \u001b[0mreload\u001b[0m\u001b[1;33m(\u001b[0m\u001b[0mes\u001b[0m\u001b[1;33m)\u001b[0m\u001b[1;33m\u001b[0m\u001b[0m\n\u001b[0m",
      "\u001b[1;31mNameError\u001b[0m: name 'es' is not defined"
     ]
    }
   ],
   "source": [
    "from importlib import reload\n",
    "reload(es)"
   ]
  },
  {
   "cell_type": "markdown",
   "metadata": {},
   "source": [
    "Reconstruct statsmodels model-object from pmml file"
   ]
  },
  {
   "cell_type": "code",
   "execution_count": null,
   "metadata": {
    "collapsed": true
   },
   "outputs": [],
   "source": [
    "%%capture\n",
    "params_recon, model_obj_recon = es.reconstruct_expon_smooth(pmml_file_name);"
   ]
  },
  {
   "cell_type": "markdown",
   "metadata": {},
   "source": [
    "Calculate predicted values from model-object and reconstructed model-object"
   ]
  },
  {
   "cell_type": "code",
   "execution_count": null,
   "metadata": {
    "collapsed": true
   },
   "outputs": [],
   "source": [
    "pred_val = model_obj.predict(results_obj.params)\n",
    "pred_val_recon = model_obj_recon.predict(params_recon)"
   ]
  },
  {
   "cell_type": "code",
   "execution_count": null,
   "metadata": {
    "collapsed": true
   },
   "outputs": [],
   "source": [
    "pred_val"
   ]
  },
  {
   "cell_type": "code",
   "execution_count": null,
   "metadata": {
    "collapsed": true
   },
   "outputs": [],
   "source": [
    "pred_val_recon"
   ]
  },
  {
   "cell_type": "markdown",
   "metadata": {},
   "source": [
    "Compare the predicted values"
   ]
  },
  {
   "cell_type": "code",
   "execution_count": null,
   "metadata": {
    "collapsed": true
   },
   "outputs": [],
   "source": [
    "if np.allclose(pred_val, pred_val_recon):\n",
    "    print('reconstruction successful')\n",
    "else:\n",
    "    print('reconstruction error')"
   ]
  },
  {
   "cell_type": "markdown",
   "metadata": {},
   "source": [
    "# Holt's Exponential Smoothing (only trend, no seasonality)"
   ]
  },
  {
   "cell_type": "code",
   "execution_count": null,
   "metadata": {
    "collapsed": true
   },
   "outputs": [],
   "source": [
    "ts_data = import_data(trend=True, seasonality=False)"
   ]
  },
  {
   "cell_type": "code",
   "execution_count": null,
   "metadata": {
    "collapsed": true
   },
   "outputs": [],
   "source": [
    "plt.plot(ts_data)"
   ]
  },
  {
   "cell_type": "markdown",
   "metadata": {},
   "source": [
    "** Additive trend. No damping **"
   ]
  },
  {
   "cell_type": "code",
   "execution_count": null,
   "metadata": {
    "collapsed": true
   },
   "outputs": [],
   "source": [
    "model_obj = hw.ExponentialSmoothing(ts_data, \n",
    "                                    trend='add', \n",
    "                                    damped=False, \n",
    "                                    seasonal=None, \n",
    "                                    seasonal_periods=None)\n",
    "results_obj = model_obj.fit(optimized=True)"
   ]
  },
  {
   "cell_type": "markdown",
   "metadata": {},
   "source": [
    "initial_level, inital_slope, smoothing_level and smoothing_slope are the relavant parameters"
   ]
  },
  {
   "cell_type": "code",
   "execution_count": null,
   "metadata": {
    "collapsed": true
   },
   "outputs": [],
   "source": [
    "pmml_file_name = 'exponential_smoothing.pmml'\n",
    "es.ExponentialSmoothingToPMML(ts_data, model_obj, results_obj, pmml_file_name);"
   ]
  },
  {
   "cell_type": "code",
   "execution_count": null,
   "metadata": {
    "collapsed": true
   },
   "outputs": [],
   "source": [
    "%%capture\n",
    "params_recon, model_obj_recon = es.reconstruct_expon_smooth(pmml_file_name);"
   ]
  },
  {
   "cell_type": "code",
   "execution_count": null,
   "metadata": {
    "collapsed": true
   },
   "outputs": [],
   "source": [
    "pred_val = model_obj.predict(results_obj.params)\n",
    "pred_val_recon = model_obj_recon.predict(params_recon)"
   ]
  },
  {
   "cell_type": "code",
   "execution_count": null,
   "metadata": {
    "collapsed": true
   },
   "outputs": [],
   "source": [
    "if np.allclose(pred_val, pred_val_recon):\n",
    "    print('reconstruction successful')\n",
    "else:\n",
    "    print('reconstruction error')"
   ]
  },
  {
   "cell_type": "markdown",
   "metadata": {},
   "source": [
    "** Addditve trend with damping**"
   ]
  },
  {
   "cell_type": "code",
   "execution_count": null,
   "metadata": {
    "collapsed": true
   },
   "outputs": [],
   "source": [
    "model_obj = hw.ExponentialSmoothing(ts_data, \n",
    "                                    trend='add', \n",
    "                                    damped=True, \n",
    "                                    seasonal=None, \n",
    "                                    seasonal_periods=None)\n",
    "results_obj = model_obj.fit(optimized=True)"
   ]
  },
  {
   "cell_type": "code",
   "execution_count": null,
   "metadata": {
    "collapsed": true
   },
   "outputs": [],
   "source": [
    "pmml_file_name = 'exponential_smoothing.pmml'\n",
    "es.ExponentialSmoothingToPMML(ts_data, model_obj, results_obj, pmml_file_name);"
   ]
  },
  {
   "cell_type": "code",
   "execution_count": null,
   "metadata": {
    "collapsed": true
   },
   "outputs": [],
   "source": [
    "%%capture\n",
    "params_recon, model_obj_recon = es.reconstruct_expon_smooth(pmml_file_name);"
   ]
  },
  {
   "cell_type": "code",
   "execution_count": null,
   "metadata": {
    "collapsed": true
   },
   "outputs": [],
   "source": [
    "pred_val = model_obj.predict(results_obj.params)\n",
    "pred_val_recon = model_obj_recon.predict(params_recon)"
   ]
  },
  {
   "cell_type": "code",
   "execution_count": null,
   "metadata": {
    "collapsed": true
   },
   "outputs": [],
   "source": [
    "if np.allclose(pred_val, pred_val_recon):\n",
    "    print('reconstruction successful')\n",
    "else:\n",
    "    print('reconstruction error')"
   ]
  },
  {
   "cell_type": "markdown",
   "metadata": {},
   "source": [
    "** Multiplicative trend. No damping**"
   ]
  },
  {
   "cell_type": "code",
   "execution_count": null,
   "metadata": {
    "collapsed": true
   },
   "outputs": [],
   "source": [
    "model_obj = hw.ExponentialSmoothing(ts_data, \n",
    "                                    trend='mul', \n",
    "                                    damped=False, \n",
    "                                    seasonal=None, \n",
    "                                    seasonal_periods=None)\n",
    "results_obj = model_obj.fit(optimized=True)"
   ]
  },
  {
   "cell_type": "code",
   "execution_count": null,
   "metadata": {
    "collapsed": true
   },
   "outputs": [],
   "source": [
    "pmml_file_name = 'exponential_smoothing.pmml'\n",
    "es.ExponentialSmoothingToPMML(ts_data, model_obj, results_obj, pmml_file_name);"
   ]
  },
  {
   "cell_type": "code",
   "execution_count": null,
   "metadata": {
    "collapsed": true
   },
   "outputs": [],
   "source": [
    "%%capture\n",
    "params_recon, model_obj_recon = es.reconstruct_expon_smooth(pmml_file_name);"
   ]
  },
  {
   "cell_type": "code",
   "execution_count": null,
   "metadata": {
    "collapsed": true
   },
   "outputs": [],
   "source": [
    "pred_val = model_obj.predict(results_obj.params)\n",
    "pred_val_recon = model_obj_recon.predict(params_recon)"
   ]
  },
  {
   "cell_type": "code",
   "execution_count": null,
   "metadata": {
    "collapsed": true
   },
   "outputs": [],
   "source": [
    "if np.allclose(pred_val, pred_val_recon):\n",
    "    print('reconstruction successful')\n",
    "else:\n",
    "    print('reconstruction error')"
   ]
  },
  {
   "cell_type": "markdown",
   "metadata": {},
   "source": [
    "** Multiplicative trend with damping**"
   ]
  },
  {
   "cell_type": "code",
   "execution_count": null,
   "metadata": {
    "collapsed": true
   },
   "outputs": [],
   "source": [
    "model_obj = hw.ExponentialSmoothing(ts_data, \n",
    "                                    trend='mul', \n",
    "                                    damped=True, \n",
    "                                    seasonal=None, \n",
    "                                    seasonal_periods=None)\n",
    "results_obj = model_obj.fit(optimized=True)"
   ]
  },
  {
   "cell_type": "code",
   "execution_count": null,
   "metadata": {
    "collapsed": true
   },
   "outputs": [],
   "source": [
    "pmml_file_name = 'exponential_smoothing.pmml'\n",
    "es.ExponentialSmoothingToPMML(ts_data, model_obj, results_obj, pmml_file_name);"
   ]
  },
  {
   "cell_type": "code",
   "execution_count": null,
   "metadata": {
    "collapsed": true
   },
   "outputs": [],
   "source": [
    "%%capture\n",
    "params_recon, model_obj_recon = es.reconstruct_expon_smooth(pmml_file_name);"
   ]
  },
  {
   "cell_type": "code",
   "execution_count": null,
   "metadata": {
    "collapsed": true
   },
   "outputs": [],
   "source": [
    "pred_val = model_obj.predict(results_obj.params)\n",
    "pred_val_recon = model_obj_recon.predict(params_recon)"
   ]
  },
  {
   "cell_type": "code",
   "execution_count": null,
   "metadata": {
    "collapsed": true
   },
   "outputs": [],
   "source": [
    "if np.allclose(pred_val, pred_val_recon):\n",
    "    print('reconstruction successful')\n",
    "else:\n",
    "    print('reconstruction error')"
   ]
  },
  {
   "cell_type": "markdown",
   "metadata": {},
   "source": [
    "# Holt - Winter Exponential Smoothing (trend and seasonality present)"
   ]
  },
  {
   "cell_type": "markdown",
   "metadata": {},
   "source": [
    "** Additive trend, additive seasonality, no damping **"
   ]
  },
  {
   "cell_type": "code",
   "execution_count": null,
   "metadata": {
    "collapsed": true
   },
   "outputs": [],
   "source": [
    "ts_data = import_data(trend=True, seasonality=True)"
   ]
  },
  {
   "cell_type": "code",
   "execution_count": null,
   "metadata": {
    "collapsed": true
   },
   "outputs": [],
   "source": [
    "plt.plot(ts_data)"
   ]
  },
  {
   "cell_type": "code",
   "execution_count": null,
   "metadata": {
    "collapsed": true
   },
   "outputs": [],
   "source": [
    "model_obj = hw.ExponentialSmoothing(ts_data, \n",
    "                                    trend='add', \n",
    "                                    damped=False, \n",
    "                                    seasonal='add', \n",
    "                                    seasonal_periods=4)\n",
    "results_obj = model_obj.fit(optimized=True)"
   ]
  },
  {
   "cell_type": "code",
   "execution_count": null,
   "metadata": {
    "collapsed": true
   },
   "outputs": [],
   "source": [
    "pmml_file_name = 'exponential_smoothing.pmml'\n",
    "es.ExponentialSmoothingToPMML(ts_data, model_obj, results_obj, pmml_file_name);"
   ]
  },
  {
   "cell_type": "code",
   "execution_count": null,
   "metadata": {
    "collapsed": true
   },
   "outputs": [],
   "source": [
    "%%capture\n",
    "params_recon, model_obj_recon = es.reconstruct_expon_smooth(pmml_file_name);"
   ]
  },
  {
   "cell_type": "code",
   "execution_count": null,
   "metadata": {
    "collapsed": true
   },
   "outputs": [],
   "source": [
    "pred_val = model_obj.predict(results_obj.params)\n",
    "pred_val_recon = model_obj_recon.predict(params_recon)"
   ]
  },
  {
   "cell_type": "code",
   "execution_count": null,
   "metadata": {
    "collapsed": true
   },
   "outputs": [],
   "source": [
    "if np.allclose(pred_val, pred_val_recon):\n",
    "    print('reconstruction successful')\n",
    "else:\n",
    "    print('reconstruction error')"
   ]
  },
  {
   "cell_type": "markdown",
   "metadata": {},
   "source": [
    "** Additive trend, additive seasonality, with damping **"
   ]
  },
  {
   "cell_type": "code",
   "execution_count": null,
   "metadata": {
    "collapsed": true
   },
   "outputs": [],
   "source": [
    "model_obj = hw.ExponentialSmoothing(ts_data, \n",
    "                                    trend='add', \n",
    "                                    damped=True, \n",
    "                                    seasonal='add', \n",
    "                                    seasonal_periods=4)\n",
    "results_obj = model_obj.fit(optimized=True)"
   ]
  },
  {
   "cell_type": "code",
   "execution_count": null,
   "metadata": {
    "collapsed": true
   },
   "outputs": [],
   "source": [
    "pmml_file_name = 'exponential_smoothing.pmml'\n",
    "es.ExponentialSmoothingToPMML(ts_data, model_obj, results_obj, pmml_file_name);"
   ]
  },
  {
   "cell_type": "code",
   "execution_count": null,
   "metadata": {
    "collapsed": true
   },
   "outputs": [],
   "source": [
    "%%capture\n",
    "params_recon, model_obj_recon = es.reconstruct_expon_smooth(pmml_file_name);"
   ]
  },
  {
   "cell_type": "code",
   "execution_count": null,
   "metadata": {
    "collapsed": true
   },
   "outputs": [],
   "source": [
    "pred_val = model_obj.predict(results_obj.params)\n",
    "pred_val_recon = model_obj_recon.predict(params_recon)"
   ]
  },
  {
   "cell_type": "code",
   "execution_count": null,
   "metadata": {
    "collapsed": true
   },
   "outputs": [],
   "source": [
    "if np.allclose(pred_val, pred_val_recon):\n",
    "    print('reconstruction successful')\n",
    "else:\n",
    "    print('reconstruction error')"
   ]
  },
  {
   "cell_type": "markdown",
   "metadata": {},
   "source": [
    "** Additive trend, multiplicative seasonality, no damping **"
   ]
  },
  {
   "cell_type": "code",
   "execution_count": null,
   "metadata": {
    "collapsed": true
   },
   "outputs": [],
   "source": [
    "model_obj = hw.ExponentialSmoothing(ts_data, \n",
    "                                    trend='add', \n",
    "                                    damped=False, \n",
    "                                    seasonal='mul', \n",
    "                                    seasonal_periods=4)\n",
    "results_obj = model_obj.fit(optimized=True)"
   ]
  },
  {
   "cell_type": "code",
   "execution_count": null,
   "metadata": {
    "collapsed": true
   },
   "outputs": [],
   "source": [
    "pmml_file_name = 'exponential_smoothing.pmml'\n",
    "es.ExponentialSmoothingToPMML(ts_data, model_obj, results_obj, pmml_file_name);"
   ]
  },
  {
   "cell_type": "code",
   "execution_count": null,
   "metadata": {
    "collapsed": true
   },
   "outputs": [],
   "source": [
    "%%capture\n",
    "params_recon, model_obj_recon = es.reconstruct_expon_smooth(pmml_file_name);"
   ]
  },
  {
   "cell_type": "code",
   "execution_count": null,
   "metadata": {
    "collapsed": true
   },
   "outputs": [],
   "source": [
    "pred_val = model_obj.predict(results_obj.params)\n",
    "pred_val_recon = model_obj_recon.predict(params_recon)"
   ]
  },
  {
   "cell_type": "code",
   "execution_count": null,
   "metadata": {
    "collapsed": true
   },
   "outputs": [],
   "source": [
    "if np.allclose(pred_val, pred_val_recon):\n",
    "    print('reconstruction successful')\n",
    "else:\n",
    "    print('reconstruction error')"
   ]
  },
  {
   "cell_type": "markdown",
   "metadata": {},
   "source": [
    "** Additive trend, multiplicative seasonality with damping **"
   ]
  },
  {
   "cell_type": "code",
   "execution_count": null,
   "metadata": {
    "collapsed": true
   },
   "outputs": [],
   "source": [
    "model_obj = hw.ExponentialSmoothing(ts_data, \n",
    "                                    trend='add', \n",
    "                                    damped=False, \n",
    "                                    seasonal='mul', \n",
    "                                    seasonal_periods=4)\n",
    "results_obj = model_obj.fit(optimized=True)"
   ]
  },
  {
   "cell_type": "code",
   "execution_count": null,
   "metadata": {
    "collapsed": true
   },
   "outputs": [],
   "source": [
    "pmml_file_name = 'exponential_smoothing.pmml'\n",
    "es.ExponentialSmoothingToPMML(ts_data, model_obj, results_obj, pmml_file_name);"
   ]
  },
  {
   "cell_type": "code",
   "execution_count": null,
   "metadata": {
    "collapsed": true
   },
   "outputs": [],
   "source": [
    "%%capture\n",
    "params_recon, model_obj_recon = es.reconstruct_expon_smooth(pmml_file_name);"
   ]
  },
  {
   "cell_type": "code",
   "execution_count": null,
   "metadata": {
    "collapsed": true
   },
   "outputs": [],
   "source": [
    "pred_val = model_obj.predict(results_obj.params)\n",
    "pred_val_recon = model_obj_recon.predict(params_recon)"
   ]
  },
  {
   "cell_type": "code",
   "execution_count": null,
   "metadata": {
    "collapsed": true
   },
   "outputs": [],
   "source": [
    "if np.allclose(pred_val, pred_val_recon):\n",
    "    print('reconstruction successful')\n",
    "else:\n",
    "    print('reconstruction error')"
   ]
  }
 ],
 "metadata": {
  "kernelspec": {
   "display_name": "Python 3",
   "language": "python",
   "name": "python3"
  },
  "language_info": {
   "codemirror_mode": {
    "name": "ipython",
    "version": 3
   },
   "file_extension": ".py",
   "mimetype": "text/x-python",
   "name": "python",
   "nbconvert_exporter": "python",
   "pygments_lexer": "ipython3",
   "version": "3.6.3"
  }
 },
 "nbformat": 4,
 "nbformat_minor": 2
}
