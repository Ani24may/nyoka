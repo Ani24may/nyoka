{
 "cells": [
  {
   "cell_type": "markdown",
   "metadata": {},
   "source": [
    "<div class=\"alert alert-block alert-info\">\n",
    "<font size = 30>scikit-learn → PMML (using Nyoka) </font>\n",
    "\n",
    "<div class=\"alert alert-block alert-success\">\n",
    "### <font color=purple> Exporter: Logistic Regression </font> <br>\n",
    "### <font color=purple> Data Set used: Auto-mpg Dataset </font>\n",
    "\n",
    "\n",
    "### <font color=purple>**STEPS**: </font>\n",
    "<font color=brown>\n",
    "<br>-Build the model using sklearn Logistic Regression\n",
    "<br>-Perform Preprocessing using Pipeline and DataFrameMapper\n",
    "<br>- Build PMML (Data Dictionary, Mining schema, Ouput, PMML) using Nyoka classes\n",
    "<br>- Upload PMML into Zementis using REST API and perform predictions using test data set\n",
    "<br>- Predict using original sklearn model using test data set\n",
    "<br>- Compare both the predictions<br> </font>"
   ]
  },
  {
   "cell_type": "code",
   "execution_count": 1,
   "metadata": {
    "ExecuteTime": {
     "end_time": "2018-07-10T06:27:56.864880Z",
     "start_time": "2018-07-10T06:27:56.839880Z"
    }
   },
   "outputs": [
    {
     "data": {
      "text/html": [
       "<style>.container { width:100% !important; }</style>"
      ],
      "text/plain": [
       "<IPython.core.display.HTML object>"
      ]
     },
     "metadata": {},
     "output_type": "display_data"
    }
   ],
   "source": [
    "# Jupyter cells: 100% width \n",
    "from IPython.core.display import display, HTML\n",
    "display(HTML(\"<style>.container { width:100% !important; }</style>\"))\n",
    "%config Completer.use_jedi = False\n",
    "%config NotebookApp.iopub_data_rate_limit = 7000000000.0 "
   ]
  },
  {
   "cell_type": "markdown",
   "metadata": {},
   "source": [
    "<div class=\"alert alert-block alert-warning\">\n",
    "# Importing dependent resources"
   ]
  },
  {
   "cell_type": "code",
   "execution_count": 3,
   "metadata": {},
   "outputs": [],
   "source": [
    "from nyoka import skl_to_pmml\n",
    "from zementis_calls import ZementisCalls"
   ]
  },
  {
   "cell_type": "code",
   "execution_count": 4,
   "metadata": {},
   "outputs": [],
   "source": [
    "import pandas as pd\n",
    "import numpy as np\n",
    "from sklearn.model_selection import train_test_split\n",
    "from sklearn.linear_model import LogisticRegression\n",
    "from sklearn.svm import SVR\n",
    "from sklearn.pipeline import Pipeline\n",
    "from sklearn.preprocessing import StandardScaler,MinMaxScaler,MaxAbsScaler,RobustScaler\n",
    "from sklearn_pandas import DataFrameMapper"
   ]
  },
  {
   "cell_type": "markdown",
   "metadata": {},
   "source": [
    "<div class=\"alert alert-block alert-warning\">\n",
    "<b><font size =5 color=\"brown\">Model building,Pre-processing (using pipeline) using Logistic Regression</font><b>"
   ]
  },
  {
   "cell_type": "markdown",
   "metadata": {},
   "source": [
    "<div class=\"alert alert-block alert-warning\">\n",
    "# Setting the Zementis REST API calls and Comparision Process"
   ]
  },
  {
   "cell_type": "code",
   "execution_count": 5,
   "metadata": {},
   "outputs": [],
   "source": [
    "def get_pmlpredictions(pmml_f_name, test_csv_f_name):\n",
    "    call = ZementisCalls()\n",
    "    if call.authentication():\n",
    "        model_name = pmml_f_name[:-5]  # use pmml file name as model name\n",
    "        call.check_model_existence(model_name)\n",
    "        upload_status = call.pmml_upload(pmml_f_name)\n",
    "        # print(upload_status)\n",
    "        if upload_status == 201:\n",
    "            print('upload sucessfull')\n",
    "            z_predictions = np.asarray(call.get_predictions(test_csv_f_name, model_name))\n",
    "            return z_predictions\n",
    "            "
   ]
  },
  {
   "cell_type": "code",
   "execution_count": 6,
   "metadata": {},
   "outputs": [],
   "source": [
    "def compare_predictions(skl_predictions,z_predictions,mdl_type='regression'):\n",
    "    if mdl_type == 'regression':\n",
    "        z_predictions = z_predictions.astype(np.float64)\n",
    "        if np.allclose(skl_predictions, z_predictions):\n",
    "            print('No inconsistent predictions')\n",
    "        else:\n",
    "            print('Inconsistent predictions')\n",
    "    elif mdl_type == 'classification':\n",
    "        z_predictions=list(map(int,z_predictions))\n",
    "        if np.array_equal(skl_predictions, z_predictions):\n",
    "            print('No inconsistent predictions')\n",
    "        else:\n",
    "            print('Inconsistent predictions')"
   ]
  },
  {
   "cell_type": "markdown",
   "metadata": {},
   "source": [
    "<div class=\"alert alert-block alert-warning\">\n",
    "# Auto Dataset For Classification of 'origin' attribute"
   ]
  },
  {
   "cell_type": "code",
   "execution_count": 45,
   "metadata": {},
   "outputs": [],
   "source": [
    "df=pd.read_csv('auto-mpg.csv')\n",
    "feature_names = df.columns.drop(['car name','origin'])\n",
    "feature_names = feature_names._data\n",
    "target_name = 'origin'\n",
    "x_train, x_test, y_train, y_test = train_test_split(df[feature_names], df[target_name], test_size=0.33)\n",
    "test_csv_f_name = 'auto_test.csv'\n",
    "x_test.to_csv(test_csv_f_name, index=False)"
   ]
  },
  {
   "cell_type": "markdown",
   "metadata": {},
   "source": [
    "<br><div class=\"alert alert-block alert-warning\">\n",
    "<b><font size = 5 color=\"brown\">Case 1:  Creation of Pipeline with  only an estimator</font><b><br>"
   ]
  },
  {
   "cell_type": "code",
   "execution_count": 46,
   "metadata": {},
   "outputs": [],
   "source": [
    "pipeline_1 = Pipeline([\n",
    "    ('mdl_name', LogisticRegression())\n",
    "])"
   ]
  },
  {
   "cell_type": "markdown",
   "metadata": {},
   "source": [
    "<div class=\"alert alert-block alert-warning\">\n",
    " PMML Name "
   ]
  },
  {
   "cell_type": "code",
   "execution_count": 47,
   "metadata": {},
   "outputs": [],
   "source": [
    "pmml_f_name_1 = 'logt_auto_1.pmml'"
   ]
  },
  {
   "cell_type": "markdown",
   "metadata": {},
   "source": [
    "<div class=\"alert alert-block alert-warning\">\n",
    "Fitting the pipeline instance"
   ]
  },
  {
   "cell_type": "code",
   "execution_count": 48,
   "metadata": {},
   "outputs": [
    {
     "data": {
      "text/plain": [
       "Pipeline(memory=None,\n",
       "     steps=[('mdl_name', LogisticRegression(C=1.0, class_weight=None, dual=False, fit_intercept=True,\n",
       "          intercept_scaling=1, max_iter=100, multi_class='ovr', n_jobs=1,\n",
       "          penalty='l2', random_state=None, solver='liblinear', tol=0.0001,\n",
       "          verbose=0, warm_start=False))])"
      ]
     },
     "execution_count": 48,
     "metadata": {},
     "output_type": "execute_result"
    }
   ],
   "source": [
    "pipeline_1.fit(x_train, y_train)"
   ]
  },
  {
   "cell_type": "markdown",
   "metadata": {},
   "source": [
    "<div class=\"alert alert-block alert-warning\">\n",
    "Export the Pipeline object into PMML using the Nyoka package"
   ]
  },
  {
   "cell_type": "code",
   "execution_count": 49,
   "metadata": {},
   "outputs": [],
   "source": [
    "skl_to_pmml(pipeline=pipeline_1,\n",
    "          col_names=feature_names,\n",
    "          target_name=target_name,\n",
    "          pmml_f_name=pmml_f_name_1)"
   ]
  },
  {
   "cell_type": "markdown",
   "metadata": {},
   "source": [
    "<div class=\"alert alert-block alert-warning\">\n",
    "Storing the Scikit Learn Predictions"
   ]
  },
  {
   "cell_type": "code",
   "execution_count": 50,
   "metadata": {},
   "outputs": [],
   "source": [
    "skl_predictions_1 = pipeline_1.predict(x_test)"
   ]
  },
  {
   "cell_type": "markdown",
   "metadata": {},
   "source": [
    "<div class=\"alert alert-block alert-warning\">\n",
    "Getting the Predictions from Zementis Server using our pmml as input"
   ]
  },
  {
   "cell_type": "code",
   "execution_count": 51,
   "metadata": {},
   "outputs": [
    {
     "name": "stdout",
     "output_type": "stream",
     "text": [
      "upload sucessfull\n"
     ]
    }
   ],
   "source": [
    "pml_predictions_1 = get_pmlpredictions(pmml_f_name_1,test_csv_f_name)"
   ]
  },
  {
   "cell_type": "markdown",
   "metadata": {},
   "source": [
    "<div class=\"alert alert-block alert-warning\">\n",
    "Comparing the Prediction between the the two predictions"
   ]
  },
  {
   "cell_type": "code",
   "execution_count": 52,
   "metadata": {},
   "outputs": [
    {
     "name": "stdout",
     "output_type": "stream",
     "text": [
      "No inconsistent predictions\n"
     ]
    }
   ],
   "source": [
    "compare_predictions(skl_predictions_1, pml_predictions_1, mdl_type='classification')"
   ]
  },
  {
   "cell_type": "markdown",
   "metadata": {},
   "source": [
    "<br><div class=\"alert alert-block alert-warning\">\n",
    " <b><font size = 5 color=\"brown\">Case 2:  Creation of Pipeline with  a pipeline step and an estimator</font><b> <br>"
   ]
  },
  {
   "cell_type": "code",
   "execution_count": 53,
   "metadata": {},
   "outputs": [],
   "source": [
    "pipeline_2 = Pipeline([\n",
    "    (\"p_step0\",StandardScaler()),\n",
    "    ('mdl_name', LogisticRegression())\n",
    "])"
   ]
  },
  {
   "cell_type": "markdown",
   "metadata": {},
   "source": [
    "<div class=\"alert alert-block alert-warning\">\n",
    "PMML Name "
   ]
  },
  {
   "cell_type": "code",
   "execution_count": 54,
   "metadata": {},
   "outputs": [],
   "source": [
    "pmml_f_name_2 = 'logt_auto_2.pmml'"
   ]
  },
  {
   "cell_type": "markdown",
   "metadata": {},
   "source": [
    "<div class=\"alert alert-block alert-warning\">\n",
    "Fitting the pipeline instance"
   ]
  },
  {
   "cell_type": "code",
   "execution_count": 55,
   "metadata": {},
   "outputs": [
    {
     "data": {
      "text/plain": [
       "Pipeline(memory=None,\n",
       "     steps=[('p_step0', StandardScaler(copy=True, with_mean=True, with_std=True)), ('mdl_name', LogisticRegression(C=1.0, class_weight=None, dual=False, fit_intercept=True,\n",
       "          intercept_scaling=1, max_iter=100, multi_class='ovr', n_jobs=1,\n",
       "          penalty='l2', random_state=None, solver='liblinear', tol=0.0001,\n",
       "          verbose=0, warm_start=False))])"
      ]
     },
     "execution_count": 55,
     "metadata": {},
     "output_type": "execute_result"
    }
   ],
   "source": [
    "pipeline_2.fit(x_train, y_train)"
   ]
  },
  {
   "cell_type": "markdown",
   "metadata": {},
   "source": [
    "<div class=\"alert alert-block alert-warning\">\n",
    "Export the Pipeline object into PMML using the Nyoka package"
   ]
  },
  {
   "cell_type": "code",
   "execution_count": 56,
   "metadata": {},
   "outputs": [],
   "source": [
    "skl_to_pmml(pipeline=pipeline_2,\n",
    "          col_names=feature_names,\n",
    "          target_name=target_name,\n",
    "          pmml_f_name=pmml_f_name_2)"
   ]
  },
  {
   "cell_type": "markdown",
   "metadata": {},
   "source": [
    "<div class=\"alert alert-block alert-warning\">\n",
    "Storing the Scikit Learn Predictions"
   ]
  },
  {
   "cell_type": "code",
   "execution_count": 57,
   "metadata": {},
   "outputs": [],
   "source": [
    "skl_predictions_2 = pipeline_2.predict(x_test)"
   ]
  },
  {
   "cell_type": "markdown",
   "metadata": {},
   "source": [
    "<div class=\"alert alert-block alert-warning\">\n",
    "Getting the Predictions from Zementis Server using our pmml as input"
   ]
  },
  {
   "cell_type": "code",
   "execution_count": 58,
   "metadata": {},
   "outputs": [
    {
     "name": "stdout",
     "output_type": "stream",
     "text": [
      "upload sucessfull\n"
     ]
    }
   ],
   "source": [
    "pml_predictions_2 = get_pmlpredictions(pmml_f_name_2,test_csv_f_name)"
   ]
  },
  {
   "cell_type": "markdown",
   "metadata": {},
   "source": [
    "<div class=\"alert alert-block alert-warning\">\n",
    "Comparing the Prediction between the the two predictions"
   ]
  },
  {
   "cell_type": "code",
   "execution_count": 59,
   "metadata": {},
   "outputs": [
    {
     "name": "stdout",
     "output_type": "stream",
     "text": [
      "No inconsistent predictions\n"
     ]
    }
   ],
   "source": [
    "compare_predictions(skl_predictions_2, pml_predictions_2, mdl_type='classification')"
   ]
  },
  {
   "cell_type": "markdown",
   "metadata": {},
   "source": [
    " <br><div class=\"alert alert-block alert-warning\">\n",
    "<b><font size = 5 color=\"brown\">Case 3:  Creation of Pipeline with  two pipeline steps and an estimator</font><b> <br>"
   ]
  },
  {
   "cell_type": "code",
   "execution_count": 60,
   "metadata": {},
   "outputs": [],
   "source": [
    "pipeline_3 = Pipeline([\n",
    "    (\"p_step0\",StandardScaler()),\n",
    "    ('p_step1', MinMaxScaler()),\n",
    "    ('mdl_name', LogisticRegression()),\n",
    "    \n",
    "])"
   ]
  },
  {
   "cell_type": "markdown",
   "metadata": {},
   "source": [
    "<div class=\"alert alert-block alert-warning\">\n",
    " PMML Name "
   ]
  },
  {
   "cell_type": "code",
   "execution_count": 61,
   "metadata": {},
   "outputs": [],
   "source": [
    "pmml_f_name_3 = 'logt_auto_3.pmml'"
   ]
  },
  {
   "cell_type": "markdown",
   "metadata": {},
   "source": [
    "<div class=\"alert alert-block alert-warning\">\n",
    "Fitting the pipeline instance"
   ]
  },
  {
   "cell_type": "code",
   "execution_count": 62,
   "metadata": {},
   "outputs": [
    {
     "data": {
      "text/plain": [
       "Pipeline(memory=None,\n",
       "     steps=[('p_step0', StandardScaler(copy=True, with_mean=True, with_std=True)), ('p_step1', MinMaxScaler(copy=True, feature_range=(0, 1))), ('mdl_name', LogisticRegression(C=1.0, class_weight=None, dual=False, fit_intercept=True,\n",
       "          intercept_scaling=1, max_iter=100, multi_class='ovr', n_jobs=1,\n",
       "          penalty='l2', random_state=None, solver='liblinear', tol=0.0001,\n",
       "          verbose=0, warm_start=False))])"
      ]
     },
     "execution_count": 62,
     "metadata": {},
     "output_type": "execute_result"
    }
   ],
   "source": [
    "pipeline_3.fit(x_train, y_train)"
   ]
  },
  {
   "cell_type": "markdown",
   "metadata": {},
   "source": [
    "<div class=\"alert alert-block alert-warning\">\n",
    "Export the Pipeline object into PMML using the Nyoka package"
   ]
  },
  {
   "cell_type": "code",
   "execution_count": 63,
   "metadata": {},
   "outputs": [],
   "source": [
    "skl_to_pmml(pipeline=pipeline_3,\n",
    "          col_names=feature_names,\n",
    "          target_name=target_name,\n",
    "          pmml_f_name=pmml_f_name_3)"
   ]
  },
  {
   "cell_type": "markdown",
   "metadata": {},
   "source": [
    "<div class=\"alert alert-block alert-warning\">\n",
    "Storing the Scikit Learn Predictions"
   ]
  },
  {
   "cell_type": "code",
   "execution_count": 64,
   "metadata": {},
   "outputs": [],
   "source": [
    "skl_predictions_3 = pipeline_3.predict(x_test)"
   ]
  },
  {
   "cell_type": "markdown",
   "metadata": {},
   "source": [
    "<div class=\"alert alert-block alert-warning\">\n",
    "Getting the Predictions from Zementis Server using our pmml as input"
   ]
  },
  {
   "cell_type": "code",
   "execution_count": 65,
   "metadata": {},
   "outputs": [
    {
     "name": "stdout",
     "output_type": "stream",
     "text": [
      "upload sucessfull\n"
     ]
    }
   ],
   "source": [
    "pml_predictions_3 = get_pmlpredictions(pmml_f_name_3,test_csv_f_name)"
   ]
  },
  {
   "cell_type": "markdown",
   "metadata": {},
   "source": [
    "<div class=\"alert alert-block alert-warning\">\n",
    "Comparing the Prediction between the the two predictions"
   ]
  },
  {
   "cell_type": "code",
   "execution_count": 66,
   "metadata": {},
   "outputs": [
    {
     "name": "stdout",
     "output_type": "stream",
     "text": [
      "No inconsistent predictions\n"
     ]
    }
   ],
   "source": [
    "compare_predictions(skl_predictions_3, pml_predictions_3, mdl_type='classification')"
   ]
  },
  {
   "cell_type": "markdown",
   "metadata": {},
   "source": [
    "<br><div class=\"alert alert-block alert-warning\">\n",
    "<b><font size = 5 color=\"brown\">Case 4:  Creation of Pipeline with  one dataframemapper as pipeline step and an estimator</font><b> <br>"
   ]
  },
  {
   "cell_type": "code",
   "execution_count": 67,
   "metadata": {},
   "outputs": [],
   "source": [
    "dframe_0 = DataFrameMapper([\n",
    "    (['displacement'],[MinMaxScaler()])\n",
    "])"
   ]
  },
  {
   "cell_type": "code",
   "execution_count": 68,
   "metadata": {},
   "outputs": [],
   "source": [
    "pipeline_4 = Pipeline([\n",
    "    (\"df_0\",dframe_0),\n",
    "    ('mdl_name', LogisticRegression()),\n",
    "    \n",
    "])"
   ]
  },
  {
   "cell_type": "markdown",
   "metadata": {},
   "source": [
    "<div class=\"alert alert-block alert-warning\">\n",
    "PMML Name "
   ]
  },
  {
   "cell_type": "code",
   "execution_count": 69,
   "metadata": {},
   "outputs": [],
   "source": [
    "pmml_f_name_4 = 'logt_auto_4.pmml'"
   ]
  },
  {
   "cell_type": "markdown",
   "metadata": {},
   "source": [
    "<div class=\"alert alert-block alert-warning\">\n",
    "Fitting the pipeline instance"
   ]
  },
  {
   "cell_type": "code",
   "execution_count": 70,
   "metadata": {},
   "outputs": [
    {
     "data": {
      "text/plain": [
       "Pipeline(memory=None,\n",
       "     steps=[('df_0', DataFrameMapper(default=False, df_out=False,\n",
       "        features=[(['displacement'], [MinMaxScaler(copy=True, feature_range=(0, 1))])],\n",
       "        input_df=False, sparse=False)), ('mdl_name', LogisticRegression(C=1.0, class_weight=None, dual=False, fit_intercept=True,\n",
       "          intercept_scaling=1, max_iter=100, multi_class='ovr', n_jobs=1,\n",
       "          penalty='l2', random_state=None, solver='liblinear', tol=0.0001,\n",
       "          verbose=0, warm_start=False))])"
      ]
     },
     "execution_count": 70,
     "metadata": {},
     "output_type": "execute_result"
    }
   ],
   "source": [
    "pipeline_4.fit(x_train, y_train)"
   ]
  },
  {
   "cell_type": "markdown",
   "metadata": {},
   "source": [
    "<div class=\"alert alert-block alert-warning\">\n",
    "Export the Pipeline object into PMML using the Nyoka package"
   ]
  },
  {
   "cell_type": "code",
   "execution_count": 71,
   "metadata": {},
   "outputs": [],
   "source": [
    "skl_to_pmml(pipeline=pipeline_4,\n",
    "          col_names=feature_names,\n",
    "          target_name=target_name,\n",
    "          pmml_f_name=pmml_f_name_4)"
   ]
  },
  {
   "cell_type": "markdown",
   "metadata": {},
   "source": [
    "<div class=\"alert alert-block alert-warning\">\n",
    "Storing the Scikit Learn Predictions"
   ]
  },
  {
   "cell_type": "code",
   "execution_count": 72,
   "metadata": {},
   "outputs": [],
   "source": [
    "skl_predictions_4 = pipeline_4.predict(x_test)"
   ]
  },
  {
   "cell_type": "markdown",
   "metadata": {},
   "source": [
    "<div class=\"alert alert-block alert-warning\">\n",
    "Getting the Predictions from Zementis Server using our pmml as input"
   ]
  },
  {
   "cell_type": "code",
   "execution_count": 73,
   "metadata": {},
   "outputs": [
    {
     "name": "stdout",
     "output_type": "stream",
     "text": [
      "upload sucessfull\n"
     ]
    }
   ],
   "source": [
    "pml_predictions_4 = get_pmlpredictions(pmml_f_name_4,test_csv_f_name)"
   ]
  },
  {
   "cell_type": "markdown",
   "metadata": {},
   "source": [
    "<div class=\"alert alert-block alert-warning\">\n",
    "Comparing the Prediction between the the two predictions"
   ]
  },
  {
   "cell_type": "code",
   "execution_count": 74,
   "metadata": {},
   "outputs": [
    {
     "name": "stdout",
     "output_type": "stream",
     "text": [
      "No inconsistent predictions\n"
     ]
    }
   ],
   "source": [
    "compare_predictions(skl_predictions_4, pml_predictions_4, mdl_type='classification')"
   ]
  },
  {
   "cell_type": "markdown",
   "metadata": {},
   "source": [
    "<div class=\"alert alert-block alert-warning\">\n",
    "<b><font size = 5 color=\"brown\">Case 5:  Creation of Pipeline with  one dataframemapper,a pipeline step and an estimator</font><b>"
   ]
  },
  {
   "cell_type": "code",
   "execution_count": 75,
   "metadata": {},
   "outputs": [],
   "source": [
    "dframe_1 = DataFrameMapper([\n",
    "    (['displacement'],[MinMaxScaler()])\n",
    "])"
   ]
  },
  {
   "cell_type": "code",
   "execution_count": 76,
   "metadata": {},
   "outputs": [],
   "source": [
    "pipeline_5 = Pipeline([\n",
    "    (\"df_0\",dframe_1),\n",
    "    (\"p_step0\",StandardScaler()),\n",
    "    ('mdl_name', LogisticRegression()),\n",
    "    \n",
    "])"
   ]
  },
  {
   "cell_type": "markdown",
   "metadata": {},
   "source": [
    "<div class=\"alert alert-block alert-warning\">\n",
    "PMML Name "
   ]
  },
  {
   "cell_type": "code",
   "execution_count": 77,
   "metadata": {},
   "outputs": [],
   "source": [
    "pmml_f_name_5 = 'logt_auto_5.pmml'"
   ]
  },
  {
   "cell_type": "markdown",
   "metadata": {},
   "source": [
    "<div class=\"alert alert-block alert-warning\">\n",
    "Fitting the pipeline instance"
   ]
  },
  {
   "cell_type": "code",
   "execution_count": 78,
   "metadata": {},
   "outputs": [
    {
     "data": {
      "text/plain": [
       "Pipeline(memory=None,\n",
       "     steps=[('df_0', DataFrameMapper(default=False, df_out=False,\n",
       "        features=[(['displacement'], [MinMaxScaler(copy=True, feature_range=(0, 1))])],\n",
       "        input_df=False, sparse=False)), ('p_step0', StandardScaler(copy=True, with_mean=True, with_std=True)), ('mdl_name', LogisticRegression(C=1.0, c...ty='l2', random_state=None, solver='liblinear', tol=0.0001,\n",
       "          verbose=0, warm_start=False))])"
      ]
     },
     "execution_count": 78,
     "metadata": {},
     "output_type": "execute_result"
    }
   ],
   "source": [
    "pipeline_5.fit(x_train, y_train)"
   ]
  },
  {
   "cell_type": "markdown",
   "metadata": {},
   "source": [
    "<div class=\"alert alert-block alert-warning\">\n",
    "Export the Pipeline object into PMML using the Nyoka package"
   ]
  },
  {
   "cell_type": "code",
   "execution_count": 79,
   "metadata": {},
   "outputs": [],
   "source": [
    "skl_to_pmml(pipeline=pipeline_5,\n",
    "          col_names=feature_names,\n",
    "          target_name=target_name,\n",
    "          pmml_f_name=pmml_f_name_5)"
   ]
  },
  {
   "cell_type": "markdown",
   "metadata": {},
   "source": [
    "<div class=\"alert alert-block alert-warning\">\n",
    "Storing the Scikit Learn Predictions"
   ]
  },
  {
   "cell_type": "code",
   "execution_count": 80,
   "metadata": {},
   "outputs": [],
   "source": [
    "skl_predictions_5 = pipeline_5.predict(x_test)"
   ]
  },
  {
   "cell_type": "markdown",
   "metadata": {},
   "source": [
    "<div class=\"alert alert-block alert-warning\">\n",
    "Getting the Predictions from Zementis Server using our pmml as input"
   ]
  },
  {
   "cell_type": "code",
   "execution_count": 81,
   "metadata": {},
   "outputs": [
    {
     "name": "stdout",
     "output_type": "stream",
     "text": [
      "upload sucessfull\n"
     ]
    }
   ],
   "source": [
    "pml_predictions_5 = get_pmlpredictions(pmml_f_name_5,test_csv_f_name)"
   ]
  },
  {
   "cell_type": "markdown",
   "metadata": {},
   "source": [
    "<div class=\"alert alert-block alert-warning\">\n",
    "Comparing the Prediction between the the two predictions"
   ]
  },
  {
   "cell_type": "code",
   "execution_count": 82,
   "metadata": {},
   "outputs": [
    {
     "name": "stdout",
     "output_type": "stream",
     "text": [
      "No inconsistent predictions\n"
     ]
    }
   ],
   "source": [
    "compare_predictions(skl_predictions_5, pml_predictions_5, mdl_type='classification')"
   ]
  }
 ],
 "metadata": {
  "kernelspec": {
   "display_name": "Python 3",
   "language": "python",
   "name": "python3"
  },
  "language_info": {
   "codemirror_mode": {
    "name": "ipython",
    "version": 3
   },
   "file_extension": ".py",
   "mimetype": "text/x-python",
   "name": "python",
   "nbconvert_exporter": "python",
   "pygments_lexer": "ipython3",
   "version": "3.6.5"
  },
  "latex_envs": {
   "LaTeX_envs_menu_present": true,
   "autoclose": false,
   "autocomplete": true,
   "bibliofile": "biblio.bib",
   "cite_by": "apalike",
   "current_citInitial": 1,
   "eqLabelWithNumbers": true,
   "eqNumInitial": 1,
   "hotkeys": {
    "equation": "Ctrl-E",
    "itemize": "Ctrl-I"
   },
   "labels_anchors": false,
   "latex_user_defs": false,
   "report_style_numbering": false,
   "user_envs_cfg": false
  }
 },
 "nbformat": 4,
 "nbformat_minor": 2
}
